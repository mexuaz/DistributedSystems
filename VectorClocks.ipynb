{
 "cells": [
  {
   "cell_type": "markdown",
   "metadata": {},
   "source": [
    "## Vector Clock implementation using Python 3\n",
    "A vector clock is an algorithm for generating a partial ordering of events in a distributed system and detecting causality violations.\n",
    "In a distributed system consist of N processes each process is going to have a(n) vector(array) of N logical clocks(simply counters), one clock per process; The values of these counters will be updated by the following rules:\n",
    "* Initialize all logical clocks to zero in each vector.\n",
    "* Each time a process experiences an internal event, it increments its own logical clock in the vector by one.\n",
    "* Each time a process sends a message, it increments its own logical clock in the vector by one and then piggyback a copy of its own vector to the message.\n",
    "* Each time a process receives a message, it increments its own logical clock in the vector by one and updates each element in its vector by taking the maximum of the value in its own vector clock and the value in the vector in the received message."
   ]
  },
  {
   "cell_type": "markdown",
   "metadata": {},
   "source": [
    "### Implementation Details:\n",
    "* Instead of using an array of N counters a dictionary (map) is used in which the dictionary key is the process id. This way we no longer need to define the number of processes a head and we could have variable number of processes.\n",
    "* Every event takes two argument an arbitrary name (which should be uniqe for that class) and duration, The duration is updating the actual cpu counter of the process\n",
    "* Send method also is implemented like an event so it has thoes two arguments that event has(name is replaced with message-msg- here plus it also implements the receive operation as well so it takes the receiver process as an extra argument\n",
    "* The receive method is implied in the send which actually make sens (There should be a send event happening for the receive side to take place)\n",
    "* Colon ':' character shouldn't be used for process or event name"
   ]
  },
  {
   "cell_type": "code",
   "execution_count": 47,
   "metadata": {},
   "outputs": [
    {
     "ename": "SyntaxError",
     "evalue": "unexpected EOF while parsing (<ipython-input-47-187509e53eaa>, line 41)",
     "output_type": "error",
     "traceback": [
      "\u001b[0;36m  File \u001b[0;32m\"<ipython-input-47-187509e53eaa>\"\u001b[0;36m, line \u001b[0;32m41\u001b[0m\n\u001b[0;31m    \u001b[0m\n\u001b[0m    ^\u001b[0m\n\u001b[0;31mSyntaxError\u001b[0m\u001b[0;31m:\u001b[0m unexpected EOF while parsing\n"
     ]
    }
   ],
   "source": [
    "class process(object):\n",
    "    \n",
    "    events=dict() # static dictionary for process class to store all events\n",
    "    \n",
    "    @staticmethod\n",
    "    def vClock\n",
    "\n",
    "    def __init__(self, name):\n",
    "        self.id = name\n",
    "        self.vClocks=dict()\n",
    "        self.vClocks[self.id]=0 # initialize its logical clock to zero\n",
    "        self.timer = 0\n",
    "        \n",
    "    def event(self, name, duration=30):\n",
    "        self.vClocks[self.id]+=1\n",
    "        self.timer += duration\n",
    "        events[self.id+':'+name] = self.vClocks\n",
    "\n",
    "    # send and receive events both are happening in this method\n",
    "    def send(self, msg, receiver, duration=10):\n",
    "        # send event\n",
    "        self.vClocks[self.id]+=1\n",
    "        self.timer += duration\n",
    "        events[self.id+':'+nmsg] = self.vClocks\n",
    "        # send happens before receive\n",
    "        # receive event\n",
    "        receiver.vClocks[receiver.id]+=1\n",
    "        for key,val in self.vClocks.items():\n",
    "            if key in receiver.vClocks:\n",
    "                receiver.vClocks[key] = max(receiver.vClocks[key], val)\n",
    "            else:\n",
    "                receiver.vClocks[key] = val\n",
    "        receiver.timer += duration\n",
    "        events[receiver.id+':'+nmsg] = receiver.vClocks\n",
    "        \n",
    "    def printVectorClocks(self):\n",
    "        print(\"Process:\",self.id,\"timer:\", self.timer)\n",
    "        for key,val in sorted(self.vClocks.items()):\n",
    "            print(key,\"->\",val)\n",
    "        print(\"=======================\")\n",
    "    \n",
    "    def eventCauses(self, name):\n",
    "        for key, val in events.items():\n",
    "            if "
   ]
  },
  {
   "cell_type": "markdown",
   "metadata": {},
   "source": [
    "### Here is a simple implementation for the example of vector clocks shown in following figure."
   ]
  },
  {
   "cell_type": "code",
   "execution_count": 46,
   "metadata": {},
   "outputs": [
    {
     "name": "stdout",
     "output_type": "stream",
     "text": [
      "Process: A timer: 82\n",
      "A : 4\n",
      "B : 5\n",
      "C : 5\n",
      "=======================\n",
      "Process: B timer: 117\n",
      "A : 2\n",
      "B : 5\n",
      "C : 1\n",
      "=======================\n",
      "Process: C timer: 111\n",
      "A : 2\n",
      "B : 5\n",
      "C : 5\n",
      "=======================\n"
     ]
    }
   ],
   "source": [
    "A = process(name=\"A\")\n",
    "B = process(name=\"B\")\n",
    "C = process(name=\"C\")\n",
    "\n",
    "C.send(\"ce\", B, 20)\n",
    "B.send(\"t2\", A, 30)\n",
    "A.send(\"kl\", B, 14)\n",
    "B.send(\"ha\", C, 23)\n",
    "C.send(\"er\", A, 17)\n",
    "B.send(\"iu\", C, 30)\n",
    "C.send(\"n7\", A, 21)\n",
    "\n",
    "\n",
    "A.printVectorClocks()\n",
    "B.printVectorClocks()\n",
    "C.printVectorClocks()"
   ]
  }
 ],
 "metadata": {
  "kernelspec": {
   "display_name": "Python 3",
   "language": "python",
   "name": "python3"
  },
  "language_info": {
   "codemirror_mode": {
    "name": "ipython",
    "version": 3
   },
   "file_extension": ".py",
   "mimetype": "text/x-python",
   "name": "python",
   "nbconvert_exporter": "python",
   "pygments_lexer": "ipython3",
   "version": "3.6.7"
  }
 },
 "nbformat": 4,
 "nbformat_minor": 2
}
