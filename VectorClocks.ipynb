{
 "cells": [
  {
   "cell_type": "markdown",
   "metadata": {},
   "source": [
    "## Vector Clock implementation using Python 3\n",
    "A vector clock is an algorithm for generating a partial ordering of events in a distributed system and detecting causality violations.\n",
    "In a distributed system consist of N processes each process is going to have a(n) vector(array) of N logical clocks(simply counters), one clock per process; The values of these counters will be updated by the following rules:\n",
    "* Initialize all logical clocks to zero in each vector.\n",
    "* Each time a process experiences an internal event, it increments its own logical clock in the vector by one.\n",
    "* Each time a process sends a message, it increments its own logical clock in the vector by one and then piggyback a copy of its own vector to the message.\n",
    "* Each time a process receives a message, it increments its own logical clock in the vector by one and updates each element in its vector by taking the maximum of the value in its own vector clock and the value in the vector in the received message."
   ]
  },
  {
   "cell_type": "markdown",
   "metadata": {},
   "source": [
    "### Implementation Details:\n",
    "* Instead of using an array of N counters a dictionary (map) is used in which the dictionary key is the process id. This way we no longer need to define the number of processes a head and we could have variable number of processes.\n",
    "* Every event takes two argument an arbitrary name (which should be uniqe for that class) and duration, The duration is updating the actual cpu counter of the process\n",
    "* Send method also is implemented like an event so it has thoes two arguments that event has(name is replaced with message-msg- here plus it also implements the receive operation as well so it takes the receiver process as an extra argument\n",
    "* The receive method is implied in the send which actually make sens (There should be a send event happening for the receive side to take place)\n",
    "* Colon ':' character shouldn't be used for process or event name"
   ]
  },
  {
   "cell_type": "code",
   "execution_count": 1,
   "metadata": {},
   "outputs": [],
   "source": [
    "class process(object):\n",
    "    \n",
    "    events=dict() # Static dictionary variable for process class to store all events and messages\n",
    "    \n",
    "    def __init__(self, name):\n",
    "        self.id = name\n",
    "        self.vClocks=dict()\n",
    "        self.vClocks[self.id]=0 # initialize its logical clock to zero\n",
    "        self.timer = 0\n",
    "        \n",
    "    def event(self, name, duration=30):\n",
    "        self.vClocks[self.id]+=1\n",
    "        self.timer += duration\n",
    "        process.events[self.id+':'+name] = self.vClocks.copy()\n",
    "\n",
    "    # send and receive events both are happening in this method\n",
    "    # the message is going to be the name of send event for process 1 and receive event process 2\n",
    "    def send(self, msg, receiver, duration=10):\n",
    "        # send event\n",
    "        self.vClocks[self.id]+=1\n",
    "        self.timer += duration\n",
    "        process.events[self.id+':'+msg] = self.vClocks.copy()\n",
    "        # send happens before receive\n",
    "        # receive event\n",
    "        receiver.vClocks[receiver.id]+=1\n",
    "        for key,val in self.vClocks.items():\n",
    "            if key in receiver.vClocks:\n",
    "                receiver.vClocks[key] = max(receiver.vClocks[key], val)\n",
    "            else:\n",
    "                receiver.vClocks[key] = val\n",
    "        receiver.timer += duration\n",
    "        process.events[receiver.id+':'+msg] = receiver.vClocks.copy()\n",
    "        \n",
    "    def printVectorClocks(self):\n",
    "        print(\"Process:\",self.id,\"timer:\", self.timer)\n",
    "        for key,val in sorted(self.vClocks.items()):\n",
    "            print(key,\"->\",val)\n",
    "        print(\"=======================\")\n",
    "        \n",
    "    \n",
    "    def printEventVectorClock(self, eventName):\n",
    "        name = self.id+':'+eventName\n",
    "        print(\"Event:\",name)\n",
    "        for key,val in sorted(process.events[name].items()):\n",
    "            print(key,\"->\",val)\n",
    "        print(\"=======================\")\n",
    "    \n",
    "    # This method will return true if given event of the process happening before externalEvent of externalProcess\n",
    "    def HappendBefore(self, eventName, externalEvent, externalProcess):\n",
    "        vc1 = process.events[self.id+':'+eventName] # vector clock for event in current process\n",
    "        vc2 = process.events[externalProcess.id+':'+externalEvent] # vector clock for external event in external process\n",
    "        \n",
    "        # There should be at least one strict smaller value in vector clocks of event1 and no bigger value to make\n",
    "        # the whole event happening before event2\n",
    "        strictSamllerFound = False \n",
    "        \n",
    "        # Those items that are not in vc1 have zero value(samller) in vc1, so there is no need to\n",
    "        # check them agian\n",
    "        for key, val in vc2.items(): \n",
    "                if key not in vc1 and val > 0:\n",
    "                   strictSamllerFound = True\n",
    "                \n",
    "        for key, val in vc1.items(): \n",
    "            if key in vc2:\n",
    "                if vc2[key] < val:\n",
    "                    return False\n",
    "                elif val < vc2[key]:\n",
    "                    strictSamllerFound = True\n",
    "            elif val > 0:\n",
    "                return False\n",
    "            \n",
    "        return strictSamllerFound\n",
    "    \n",
    "    def PartialOrder(self, eventName):\n",
    "        name = self.id+':'+eventName\n",
    "        for key,val in process.events.items():\n",
    "            if self.HappendBefore()\n",
    "        "
   ]
  },
  {
   "cell_type": "markdown",
   "metadata": {},
   "source": [
    "### Here is a simple implementation for the example of vector clocks shown in following figure."
   ]
  },
  {
   "cell_type": "code",
   "execution_count": 2,
   "metadata": {},
   "outputs": [
    {
     "name": "stdout",
     "output_type": "stream",
     "text": [
      "Process: A timer: 82\n",
      "A -> 4\n",
      "B -> 5\n",
      "C -> 5\n",
      "=======================\n",
      "Process: B timer: 117\n",
      "A -> 2\n",
      "B -> 5\n",
      "C -> 1\n",
      "=======================\n",
      "Process: C timer: 111\n",
      "A -> 2\n",
      "B -> 5\n",
      "C -> 5\n",
      "=======================\n"
     ]
    }
   ],
   "source": [
    "A = process(name=\"A\")\n",
    "B = process(name=\"B\")\n",
    "C = process(name=\"C\")\n",
    "\n",
    "C.send(\"cb\", B, 20)\n",
    "B.send(\"ba\", A, 30)\n",
    "B.send(\"bc1\", C, 23)\n",
    "A.send(\"ab\", B, 14) # a.k.a B receives ab (after sending bc1 to c)\n",
    "C.send(\"ca1\", A, 17)\n",
    "B.send(\"bc2\", C, 30)\n",
    "C.send(\"ca2\", A, 21)\n",
    "\n",
    "\n",
    "A.printVectorClocks()\n",
    "B.printVectorClocks()\n",
    "C.printVectorClocks()"
   ]
  },
  {
   "cell_type": "code",
   "execution_count": 3,
   "metadata": {},
   "outputs": [
    {
     "name": "stdout",
     "output_type": "stream",
     "text": [
      "Event: A:ab\n",
      "A -> 2\n",
      "B -> 2\n",
      "C -> 1\n",
      "=======================\n",
      "Event cb of C is happning before event ab of A: True\n",
      "Event bc2 of B is happning before event bc1 of C: False\n"
     ]
    }
   ],
   "source": [
    "A.printEventVectorClock(\"ab\")\n",
    "print(\"Event cb of C is happning before event ab of A:\", C.HappendBefore(\"cb\", \"ab\", A))\n",
    "print(\"Event bc2 of B is happning before event bc1 of C:\", B.HappendBefore(\"bc2\", \"bc1\", C))"
   ]
  }
 ],
 "metadata": {
  "kernelspec": {
   "display_name": "Python 3",
   "language": "python",
   "name": "python3"
  },
  "language_info": {
   "codemirror_mode": {
    "name": "ipython",
    "version": 3
   },
   "file_extension": ".py",
   "mimetype": "text/x-python",
   "name": "python",
   "nbconvert_exporter": "python",
   "pygments_lexer": "ipython3",
   "version": "3.6.7"
  }
 },
 "nbformat": 4,
 "nbformat_minor": 2
}
